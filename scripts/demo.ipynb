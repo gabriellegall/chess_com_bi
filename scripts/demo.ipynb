{
 "cells": [
  {
   "cell_type": "code",
   "execution_count": null,
   "metadata": {},
   "outputs": [
    {
     "name": "stdout",
     "output_type": "stream",
     "text": [
      "Stockfish is working: {'name': 'Stockfish 16', 'author': 'the Stockfish developers (see AUTHORS file)'}\n"
     ]
    }
   ],
   "source": [
    "import chess.engine\n",
    "import asyncio\n",
    "\n",
    "engine_path = \"C:/Program Files/ChessEngines/stockfish_16/stockfish-windows-x86-64-avx2.exe\"\n",
    "\n",
    "if __name__ == \"__main__\" and hasattr(asyncio, 'WindowsProactorEventLoopPolicy'):\n",
    "    asyncio.set_event_loop_policy(asyncio.WindowsProactorEventLoopPolicy())\n",
    "\n",
    "with chess.engine.SimpleEngine.popen_uci(engine_path) as engine:\n",
    "    print(\"Stockfish is working:\", engine.id)\n"
   ]
  },
  {
   "cell_type": "code",
   "execution_count": 6,
   "metadata": {},
   "outputs": [
    {
     "name": "stdout",
     "output_type": "stream",
     "text": [
      "Stockfish evaluation: PovScore(Cp(+48), WHITE)\n"
     ]
    }
   ],
   "source": [
    "import chess\n",
    "import chess.engine\n",
    "import asyncio\n",
    "\n",
    "engine_path = \"C:/Program Files/ChessEngines/stockfish_16/stockfish-windows-x86-64-avx2.exe\"\n",
    "\n",
    "if __name__ == \"__main__\" and hasattr(asyncio, 'WindowsProactorEventLoopPolicy'):\n",
    "    asyncio.set_event_loop_policy(asyncio.WindowsProactorEventLoopPolicy())\n",
    "\n",
    "with chess.engine.SimpleEngine.popen_uci(engine_path) as engine:\n",
    "    board = chess.Board()  # Start with the initial position\n",
    "    result = engine.analyse(board, chess.engine.Limit(time=0.1))  # Analyze the position\n",
    "\n",
    "    print(\"Stockfish evaluation:\", result[\"score\"])\n"
   ]
  }
 ],
 "metadata": {
  "kernelspec": {
   "display_name": "venv",
   "language": "python",
   "name": "python3"
  },
  "language_info": {
   "codemirror_mode": {
    "name": "ipython",
    "version": 3
   },
   "file_extension": ".py",
   "mimetype": "text/x-python",
   "name": "python",
   "nbconvert_exporter": "python",
   "pygments_lexer": "ipython3",
   "version": "3.12.5"
  }
 },
 "nbformat": 4,
 "nbformat_minor": 2
}
