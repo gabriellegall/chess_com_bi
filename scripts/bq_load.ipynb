{
 "cells": [
  {
   "cell_type": "code",
   "execution_count": 6,
   "id": "ebe09176",
   "metadata": {},
   "outputs": [],
   "source": [
    "import os\n",
    "\n",
    "os.environ[\"GOOGLE_APPLICATION_CREDENTIALS\"] = \"../keyfile.json\""
   ]
  },
  {
   "cell_type": "code",
   "execution_count": 7,
   "id": "992ba639",
   "metadata": {},
   "outputs": [
    {
     "name": "stdout",
     "output_type": "stream",
     "text": [
      "Data loaded into BigQuery successfully!\n"
     ]
    }
   ],
   "source": [
    "import pandas as pd\n",
    "from pandas_gbq import to_gbq\n",
    "from google.cloud import bigquery\n",
    "\n",
    "# Create dummy data\n",
    "data = {\n",
    "    'id': [1, 2, 3, 4],\n",
    "    'product_name': ['Laptop', 'Phone', 'Tablet', 'Headphones'],\n",
    "    'amount': [1000.50, 500.75, 300.00, 150.25]\n",
    "}\n",
    "\n",
    "# Create a pandas DataFrame\n",
    "df = pd.DataFrame(data)\n",
    "\n",
    "# Set up BigQuery client\n",
    "client = bigquery.Client()\n",
    "\n",
    "# Define the BigQuery dataset and table name\n",
    "dataset_id = 'chesscom-451104.stg'\n",
    "table_id = f'{dataset_id}.df'\n",
    "\n",
    "# Load DataFrame into BigQuery using pandas_gbq\n",
    "to_gbq(df, table_id, project_id='chesscom-451104', if_exists='replace')\n",
    "\n",
    "# Alternatively, using the BigQuery client\n",
    "# client.load_table_from_dataframe(df, table_id).result()\n",
    "\n",
    "print(\"Data loaded into BigQuery successfully!\")\n"
   ]
  }
 ],
 "metadata": {
  "kernelspec": {
   "display_name": "venv",
   "language": "python",
   "name": "python3"
  },
  "language_info": {
   "codemirror_mode": {
    "name": "ipython",
    "version": 3
   },
   "file_extension": ".py",
   "mimetype": "text/x-python",
   "name": "python",
   "nbconvert_exporter": "python",
   "pygments_lexer": "ipython3",
   "version": "3.12.5"
  }
 },
 "nbformat": 4,
 "nbformat_minor": 5
}
