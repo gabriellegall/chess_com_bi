{
 "cells": [
  {
   "cell_type": "code",
   "execution_count": 1,
   "id": "b6c2aa86",
   "metadata": {},
   "outputs": [],
   "source": [
    "import requests\n",
    "import pandas as pd\n",
    "from datetime import datetime\n",
    "\n",
    "def get_chess_archives(username, email):\n",
    "    # Set up the headers with the input parameters\n",
    "    headers = {'User-Agent': f'username: {username}, email: {email}'}\n",
    "    \n",
    "    # Construct the URL using the username\n",
    "    URL = f'https://api.chess.com/pub/player/{username}/games/archives'\n",
    "    \n",
    "    # Make the request to the API\n",
    "    data = requests.get(URL, headers=headers)\n",
    "    \n",
    "    # Extract the JSON response\n",
    "    archives = data.json()\n",
    "    \n",
    "    return archives\n",
    "\n",
    "def fetch_and_union_game_data(usernames, email):\n",
    "    # Initialize variables\n",
    "    all_game_data = []\n",
    "    current_timestamp = datetime.now().strftime(\"%Y-%m-%d %H:%M:%S\")\n",
    "\n",
    "    # Loop through each username\n",
    "    for username in usernames:\n",
    "        # Get the archives for the user\n",
    "        archives = get_chess_archives(username, email)\n",
    "\n",
    "        # Loop through each archive URL for the current user\n",
    "        for archive_url in archives.get(\"archives\", []):\n",
    "            # Fetch data for the current archive\n",
    "            response = requests.get(archive_url, headers={'User-Agent': f'username: {username}, email: {email}'})\n",
    "            archive_data = response.json()\n",
    "\n",
    "            # Extract game details into a list of dictionaries\n",
    "            game_data = [\n",
    "                {\n",
    "                    # Audit information\n",
    "                    \"archive_url\": archive_url,\n",
    "                    \"username\": username,\n",
    "                    \"bq_load_date\": current_timestamp,\n",
    "                    # General game information\n",
    "                    \"url\": game.get(\"url\", \"\"),\n",
    "                    \"pgn\": game.get(\"pgn\", \"\"),\n",
    "                    \"time_control\": game.get(\"time_control\", \"\"),\n",
    "                    \"end_time\": datetime.fromtimestamp(game.get(\"end_time\", 0)).strftime(\"%Y-%m-%d %H:%M:%S\"),\n",
    "                    \"rated\": game.get(\"rated\", False),\n",
    "                    \"accuracies\": game.get(\"accuracies\", {}),\n",
    "                    \"tcn\": game.get(\"tcn\", \"\"),\n",
    "                    \"game_uuid\": game.get(\"uuid\", \"\"),\n",
    "                    \"initial_setup\": game.get(\"initial_setup\", \"\"),\n",
    "                    \"fen\": game.get(\"fen\", \"\"),\n",
    "                    \"time_class\": game.get(\"time_class\", \"\"),\n",
    "                    \"rules\": game.get(\"rules\", \"\"),\n",
    "                    # 'white' subfields\n",
    "                    \"white_username\": game.get(\"white\", {}).get(\"username\", \"\"),\n",
    "                    \"white_rating\": game.get(\"white\", {}).get(\"rating\", \"\"),\n",
    "                    \"white_result\": game.get(\"white\", {}).get(\"result\", \"\"),\n",
    "                    \"white_id\": game.get(\"white\", {}).get(\"@id\", \"\"),\n",
    "                    \"white_uuid\": game.get(\"white\", {}).get(\"uuid\", \"\"),\n",
    "                    # 'black' subfields\n",
    "                    \"black_username\": game.get(\"black\", {}).get(\"username\", \"\"),\n",
    "                    \"black_rating\": game.get(\"black\", {}).get(\"rating\", \"\"),\n",
    "                    \"black_result\": game.get(\"black\", {}).get(\"result\", \"\"),\n",
    "                    \"black_id\": game.get(\"black\", {}).get(\"@id\", \"\"),\n",
    "                    \"black_uuid\": game.get(\"black\", {}).get(\"uuid\", \"\"),\n",
    "                }\n",
    "                for game in archive_data.get(\"games\", [])\n",
    "            ]\n",
    "            \n",
    "            all_game_data.extend(game_data)\n",
    "\n",
    "    df = pd.DataFrame(all_game_data)\n",
    "\n",
    "    return df\n",
    "\n",
    "# Example usage:\n",
    "usernames = ['piwi100', 'Zundorn', 'leprechess']\n",
    "email = 'cassado01@gmail.com'\n",
    "games = fetch_and_union_game_data(usernames, email)"
   ]
  },
  {
   "cell_type": "markdown",
   "id": "bb686649",
   "metadata": {},
   "source": [
    "Full load of the data (DROP & CREATE) is only sustainable as long as data volume is small and update frequency is low.\n",
    "Incremental load scanning only the new games could be implemented."
   ]
  },
  {
   "cell_type": "code",
   "execution_count": 2,
   "id": "a476c8bb",
   "metadata": {},
   "outputs": [
    {
     "name": "stderr",
     "output_type": "stream",
     "text": [
      "100%|██████████| 1/1 [00:00<?, ?it/s]"
     ]
    },
    {
     "name": "stdout",
     "output_type": "stream",
     "text": [
      "Data loaded into BigQuery successfully!\n"
     ]
    },
    {
     "name": "stderr",
     "output_type": "stream",
     "text": [
      "\n"
     ]
    }
   ],
   "source": [
    "import os\n",
    "import pandas as pd\n",
    "from pandas_gbq import to_gbq\n",
    "from google.cloud import bigquery\n",
    "\n",
    "# Set up BigQuery client\n",
    "os.environ[\"GOOGLE_APPLICATION_CREDENTIALS\"] = \"../keyfile.json\"\n",
    "client = bigquery.Client()\n",
    "\n",
    "# Define the BigQuery dataset and table name\n",
    "dataset_id = 'chesscom-451104.staging' \n",
    "table_id = f'{dataset_id}.games'\n",
    "\n",
    "# Load the DataFrame into BigQuery using pandas_gbq\n",
    "to_gbq(games, table_id, project_id='chesscom-451104', if_exists='replace') # DROP & CREATE data load (full)\n",
    "print(\"Data loaded into BigQuery successfully!\")"
   ]
  }
 ],
 "metadata": {
  "kernelspec": {
   "display_name": "venv",
   "language": "python",
   "name": "python3"
  },
  "language_info": {
   "codemirror_mode": {
    "name": "ipython",
    "version": 3
   },
   "file_extension": ".py",
   "mimetype": "text/x-python",
   "name": "python",
   "nbconvert_exporter": "python",
   "pygments_lexer": "ipython3",
   "version": "3.12.5"
  }
 },
 "nbformat": 4,
 "nbformat_minor": 5
}
